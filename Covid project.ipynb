{
 "cells": [
  {
   "cell_type": "code",
   "execution_count": 108,
   "id": "78b7a903",
   "metadata": {},
   "outputs": [
    {
     "name": "stdout",
     "output_type": "stream",
     "text": [
      "The total number of vaccinations is 5612291.0\n",
      "2020-03-15\n",
      "2020-02-24\n",
      "1023 days 00:00:00\n"
     ]
    }
   ],
   "source": [
    "import pandas as pd\n",
    "#import datetime as dt\n",
    "\n",
    "#1\n",
    "table = pd.read_csv(\"owid-covid-data.csv\")\n",
    "del table[\"new_cases_smoothed\"]\n",
    "del table[\"new_deaths_smoothed\"]\n",
    "del table[\"new_cases_per_million\"]\n",
    "del table[\"total_cases_per_million\"]\n",
    "\n",
    "#2\n",
    "table = table.rename(columns={'date': 'Date', 'location': 'Country', 'continent': 'Continent', 'iso_code' : 'ISO_code'})\n",
    "#print(table)\n",
    "\n",
    "#3\n",
    "continent_unique = table['Continent'].unique()\n",
    "#print(continent_unique)\n",
    "\n",
    "#4\n",
    "df2 = table.dropna(subset = ['Continent'])\n",
    "#print(df2)\n",
    "\n",
    "#5\n",
    "df_temp = df2[['Date', 'Country', 'total_cases', 'total_deaths', 'total_vaccinations']].copy()\n",
    "df3 = df_temp.groupby(by=['Date', 'Country'], dropna = False).sum()\n",
    "#print(df3)\n",
    "#print(df2[['Date', 'Country', 'total_cases', 'total_deaths', 'total_vaccinations']])\n",
    "\n",
    "#6\n",
    "#But it automatically changes Nan to 0 (the prints above can show it)\n",
    "df3['total_cases'].replace(\"NaN\", 0, inplace=True)\n",
    "#print(df3)\n",
    "\n",
    "#7\n",
    "df3['data_column'] = df3.index.get_level_values('Date')\n",
    "df3['year'] = pd.DatetimeIndex(df3['data_column']).year\n",
    "\n",
    "df3.loc[df3['year'] == 2020, 'year2020'] = \"Year 1\"\n",
    "df3.loc[df3['year'] > 2020, 'year2020'] = \"Not year 1\"\n",
    "#print(df3)\n",
    "\n",
    "#8\n",
    "print(\"The total number of vaccinations is\", df3.at[('2021-03-21','Mexico'), 'total_vaccinations'])\n",
    "\n",
    "dfdf = df2.loc[df2['Country'].isin(['Uzbekistan'])] #that one was the most difficult one for me :)))\n",
    "print(dfdf['Date'].iloc[0])\n",
    "\n",
    "print(pd.to_datetime(df2['Date'].iloc[-1]) - pd.to_datetime(df2['Date'].iloc[0]))\n",
    "\n",
    "#I haven't done last couple of tasks, I'll do it next time"
   ]
  },
  {
   "cell_type": "code",
   "execution_count": null,
   "id": "c5854a4b",
   "metadata": {},
   "outputs": [],
   "source": []
  }
 ],
 "metadata": {
  "kernelspec": {
   "display_name": "Python 3",
   "language": "python",
   "name": "python3"
  },
  "language_info": {
   "codemirror_mode": {
    "name": "ipython",
    "version": 3
   },
   "file_extension": ".py",
   "mimetype": "text/x-python",
   "name": "python",
   "nbconvert_exporter": "python",
   "pygments_lexer": "ipython3",
   "version": "3.6.9"
  }
 },
 "nbformat": 4,
 "nbformat_minor": 5
}
